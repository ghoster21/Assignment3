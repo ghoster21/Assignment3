{
 "cells": [
  {
   "cell_type": "markdown",
   "metadata": {},
   "source": [
    "# Assignment 4 Python"
   ]
  },
  {
   "cell_type": "markdown",
   "metadata": {},
   "source": [
    "## Define the sequence unique"
   ]
  },
  {
   "cell_type": "markdown",
   "metadata": {},
   "source": [
    "def kmers(seq):\n",
    "    sequence = seq\n",
    "    seq_len = len(sequence)\n",
    "    pos = []\n",
    "    uni_l = []\n",
    "    lin_clx = []\n",
    "    counter = 0\n",
    "    print('Sequence entered: ',sequence)\n",
    "    print('Sequence length (kmax):',seq_len)\n",
    "    for k in range(1,10):\n",
    "        counter = counter+1\n",
    "        for i in range(seq_len-k+1):\n",
    "            trial=sequence[i:k]\n",
    "            if i==0:\n",
    "                t=k\n",
    "                kobs=[]\n",
    "                kobs.append(trial)\n",
    "            else:\n",
    "                p=0\n",
    "                for j in range(len(kobs)):\n",
    "                    if kobs[j] == trial:\n",
    "                        p=1\n",
    "                    else:\n",
    "                        p=p\n",
    "                if p==0:\n",
    "                    kobs.append(trial)\n",
    "            k=k+1\n",
    "               \n",
    "            if i==0:\n",
    "                kpos = 0\n",
    "                if seq_len-t+1>4**t:\n",
    "                    kpos = 4**t\n",
    "                    pos.append(kpos)\n",
    "                else:\n",
    "                    kpos = seq_len-t+1\n",
    "                    pos.append(kpos)\n",
    "        unicount = len(kobs)\n",
    "        uni_l.append(unicount)\n",
    "        lc = unicount/kpos\n",
    "        lin_clx.append(lc)\n",
    "        print('Observed kmers in kmer =',counter,'is ',kobs)\n",
    "    lc2 = sum(uni_l)/sum(pos) \n",
    "    \n",
    "    #print('Linguistic Complexity for each kmer; at kmer',seq_len,'kmers :',lin_clx)\n",
    "    print('Linguistic Complexity (total) = ',lc2)\n",
    "    print('Possible kmers amount for',seq_len,'kmers :',pos)\n",
    "    print('Observed kmers amount for',seq_len,'kmers :',uni_l)\n",
    "    print('Plotting possible kmers vs. kmers')\n",
    "\n",
    "    #before plotting the function, we should define the range of kmers\n",
    "    k = range(1,10)\n",
    "    import matplotlib.pyplot as plt\n",
    "    plt.plot (k,pos)\n",
    "    plt.ylabel ('possible')\n",
    "    plt.xlabel ('kmers')\n",
    "    plt.title ('kmers proportion')\n",
    "    \n",
    "    #import pandas as pd for make a table\n",
    "    import pandas as pd\n",
    "    df = pd.DataFrame({'possible kmers':pos})\n",
    "    df = pd.DataFrame({'observed kmers':uni_l})\n",
    "    df.index = range(1,10)\n",
    "    df['possible kmers'] = pos\n",
    "    return df"
   ]
  },
  {
   "cell_type": "markdown",
   "metadata": {},
   "source": [
    "df = kmers('ATTTGGATT')"
   ]
  },
  {
   "cell_type": "markdown",
   "metadata": {},
   "source": [
    "# Readme\n",
    "\n",
    "y = kmers('x')\n",
    "\n",
    "where:\n",
    "y = output of pandas data frame of observed and possible kmers\n",
    "x = input of string format of sequence"
   ]
  },
  {
   "cell_type": "code",
   "execution_count": null,
   "metadata": {},
   "outputs": [],
   "source": []
  }
 ],
 "metadata": {
  "kernelspec": {
   "display_name": "Python 3",
   "language": "python",
   "name": "python3"
  },
  "language_info": {
   "codemirror_mode": {
    "name": "ipython",
    "version": 3
   },
   "file_extension": ".py",
   "mimetype": "text/x-python",
   "name": "python",
   "nbconvert_exporter": "python",
   "pygments_lexer": "ipython3",
   "version": "3.7.3"
  }
 },
 "nbformat": 4,
 "nbformat_minor": 2
}
